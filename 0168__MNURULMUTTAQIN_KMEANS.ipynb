{
  "nbformat": 4,
  "nbformat_minor": 0,
  "metadata": {
    "colab": {
      "provenance": [],
      "include_colab_link": true
    },
    "kernelspec": {
      "name": "python3",
      "display_name": "Python 3"
    },
    "language_info": {
      "name": "python"
    }
  },
  "cells": [
    {
      "cell_type": "markdown",
      "metadata": {
        "id": "view-in-github",
        "colab_type": "text"
      },
      "source": [
        "<a href=\"https://colab.research.google.com/github/mnrlmuttaqin/customersegmentationmanualwithkmeans/blob/main/0168__MNURULMUTTAQIN_KMEANS.ipynb\" target=\"_parent\"><img src=\"https://colab.research.google.com/assets/colab-badge.svg\" alt=\"Open In Colab\"/></a>"
      ]
    },
    {
      "cell_type": "markdown",
      "source": [
        "# Pengertian\n",
        "\n",
        "K-means merupakan salah satu algoritma yang bersifat unsupervised learning. K-Means memiliki fungsi untuk mengelompokkan data kedalam data cluster. Algoritma ini dapat menerima data tanpa ada label kategori. K-Means Clustering Algoritma juga merupakan metode non-hierarchy. Metode Clustering Algoritma adalah mengelompokkan beberapa data ke dalam kelompok yang menjelaskan data dalam satu kelompok memiliki karakteristik yang sama dan memiliki karakteristik yang berbeda dengan data yang ada di kelompok lain. Cluster Sampling adalah teknik pengambilan sampel di mana unit-unit populasi dipilih secara acak dari kelompok yang sudah ada yang disebut ‘cluster, nah Clustering atau klasterisasi adalah salah satu masalah yang menggunakan teknik unsupervised learning.\n",
        "\n",
        "K-Means Clustering adalah suatu metode penganalisaan data atau metode Data Mining yang melakukan proses pemodelan unssupervised learning dan menggunakan metode yang mengelompokan data berbagai partisi.\n",
        "\n",
        "K Means Clustering memiliki objective yaitu meminimalisasi object function yang telah di atur pada proses clasterisasi. Dengan cara minimalisasi variasi antar 1 cluster dengan maksimalisasi variasi dengan data di cluster lainnya.\n",
        "\n"
      ],
      "metadata": {
        "id": "uS7PDuzkPR3B"
      }
    },
    {
      "cell_type": "markdown",
      "source": [
        "# Cara Kerja\n",
        "Untuk melakukan clustering, kita memerlukan beberapa tahapan, diantaranya adalah:\n",
        "\n",
        "<ol>\n",
        "<li>Penentuan nilai k atau cluster yang akan dibuat</li>\n",
        "\n",
        "<li>Inisialisasi nilai centroid secara random</li>\n",
        "\n",
        "Centroid merupakan nilai pusat (center) dari sebuah cluster. Misalkan kita mengatur k = 3, maka akan terbentuk centroid C1, C2, dan C3 secara random.\n",
        "\n",
        "<li>Menetapkan setiap data point ke centroid terdekat</li>\n",
        "\n",
        "Tahapan ini akan melakukan perhitungan jarak pada setiap data terhadap centroid yang telah dibuat menggunakan Euclidean distance.\n",
        "\n",
        "<li>Menghitung ulang nilai centroid dari cluster yang baru terbentuk.</li>\n",
        "\n",
        "<li>Proses ini dilakukan dengan menghitung nilai mean dari setiap data points di dalam cluster tersebut. </li>\n",
        "\n",
        "<li>Melakukan optimasi agar kriteria terpenuhi dengan mengulang step 3 dan 4.</li>\n",
        "</ol>"
      ],
      "metadata": {
        "id": "ffZBSyZFPY3e"
      }
    },
    {
      "cell_type": "markdown",
      "source": [
        "# Contoh :\n",
        "\n",
        "Salah satu strategi penting pada bidang pemasaran / marketing adalah segmentasi pelanggan. Customer segmentation adalah strategi pemasaran yang mengelompokkan target pasar berdasarkan karakteristik yang sama untuk dikelola secara efektif dan tepat agar mencapai tujuan bisnis yang telah ditetapkan. Divisi bagian Marketing perusahaan DQTech ingin melakukan segmentasi pelanggan untuk menentukan pengelompokan pelanggan yang dilakukan secara tepat dengan tujuan untuk memudahkan perusahaan dalam memasarkan produk secara efisien dan efektif, baik secara biaya maupun waktu. Selain itu, penjualan produk juga dapat lebih meningkat sehingga bisnis secara otomatis akan berkembang.\n",
        "\n",
        "Marketing DQTech ingin mengelompokan pelanggan berdasarkan umur (<i>age</i>), pendapatan (<i>annual income</i>) dan <i>spending score</i> (merupakan angka integer (1–100) yang ditentukan oleh pihak perusahaan berdasarkan sifat, behaviour, dan kebiasaan belanja dari tiap-tiap pelanggan) :\n",
        "\n",
        "\n",
        "<table>\n",
        "  <tr>\n",
        "    <td align=\"center\">customer</td>\n",
        "    <td align=\"center\">age</td>\n",
        "    <td align=\"center\">annual income</td>\n",
        "    <td align=\"center\">spending score</td>\n",
        "  </tr>\n",
        "  <tr>\n",
        "    <td align=\"center\">1</td>\n",
        "    <td align=\"center\">19</td>\n",
        "    <td align=\"center\">15</td>\n",
        "    <td align=\"center\">39</td>\n",
        "  </tr>\n",
        "  <tr>\n",
        "    <td align=\"center\">2</td>\n",
        "    <td align=\"center\">21</td>\n",
        "    <td align=\"center\">15</td>\n",
        "    <td align=\"center\">81</td>\n",
        "  </tr>\n",
        "  <tr>\n",
        "    <td align=\"center\">3</td>\n",
        "    <td align=\"center\">20</td>\n",
        "    <td align=\"center\">16</td>\n",
        "    <td align=\"center\">6</td>\n",
        "  </tr>\n",
        "  <tr>\n",
        "    <td align=\"center\">4</td>\n",
        "    <td align=\"center\">23</td>\n",
        "    <td align=\"center\">17</td>\n",
        "    <td align=\"center\">77</td>\n",
        "  </tr>\n",
        "  <tr>\n",
        "    <td align=\"center\">5</td>\n",
        "    <td align=\"center\">31</td>\n",
        "    <td align=\"center\">16</td>\n",
        "    <td align=\"center\">40</td>\n",
        "  </tr>\n",
        "  <tr>\n",
        "    <td align=\"center\">6</td>\n",
        "    <td align=\"center\">28</td>\n",
        "    <td align=\"center\">18</td>\n",
        "    <td align=\"center\">82</td>\n",
        "  </tr>\n",
        "  <tr>\n",
        "    <td align=\"center\">7</td>\n",
        "    <td align=\"center\">27</td>\n",
        "    <td align=\"center\">20</td>\n",
        "    <td align=\"center\">5</td>\n",
        "</table>\n",
        "\n",
        "Dengan algoritma clustering K-Means (parameter : iterasi = 2, banyak cluster = 3) \\[parameter ini tentu bisa disetting secara bebas\\] buatlah pengelompokan pelanggan tersebut!"
      ],
      "metadata": {
        "id": "jjzwaLnqiMCs"
      }
    },
    {
      "cell_type": "markdown",
      "source": [
        "Jawab :\n",
        "\n",
        "Parameter K-Means \n",
        "\n",
        "*   iterasi = 2\n",
        "*   banyak cluster = 3\n",
        "\n",
        "Diketahui banyak data 𝑛 = 7\n",
        "\n",
        "<ol>\n",
        "  <li><b>Tentukan Nilai Max dan Min tiap Variabel</b></li>\n",
        "      <ul>Age : (min = 19, max = 31)</ul>\n",
        "      <ul>Annual Income  : (min = 15, max = 20)</ul>\n",
        "      <ul>Spending Score : (min = 5, max = 82)</ul>\n",
        "  <li><b>Tentukan Pusat Cluster Awal (<i>Centroid</i>) Secara Acak</b></li>\n",
        "      Akan dilakukan proses penentuan posisi cluster awal sebanyak 3 cluster (sesuai parameter yang ditentukan) secara acak (<i>random</i>) namun pada interval tertutup tiap-tiap variabel\n",
        "      <ul>Cluster-𝑖 = (random[19, 31], random[15, 20], random[5, 82])</ul>\n",
        "      <ul>Cluster 1 = (24, 17, 48)</ul>\n",
        "      <ul>Cluster 2 = (19, 16, 37)</ul>\n",
        "      <ul>Cluster 3 = (31, 15, 65)</ul>\n",
        "   <li><b>Hitung Jarak Data per-Customer Terhadap Masing-Masing <i>Centroid</i></b></li>\n",
        "   Customer 1\n",
        "   <ol type=\"a\">\n",
        "   <li>Jarak Data Customer 1 dengan Centroid 1</li>\n",
        "      \\begin{equation}\n",
        "      d_{1,1} = \\sqrt{(c_{1,1}-x_{1,1})^2 + (c_{1,2}-x_{1,2})^2 + (c_{1,3}-x_{1,3})^2}\n",
        "      \\end{equation}\n",
        "      \\begin{equation}\n",
        "      d_{1,1} = \\sqrt{(24-19)^2 + (17-15)^2 + (48-39)^2} = 10.4880\n",
        "      \\end{equation}\n",
        "\n",
        "   <li>Jarak Data Customer 1 dengan Centroid 2</li>\n",
        "      \\begin{equation}\n",
        "      d_{1,2} = \\sqrt{(c_{2,1}-x_{1,1})^2 + (c_{2,2}-x_{1,2})^2 + (c_{2,3}-x_{1,3})^2}\n",
        "      \\end{equation}\n",
        "      \\begin{equation}\n",
        "      d_{1,2} = \\sqrt{(19-19)^2 + (16-15)^2 + (37-39)^2} = 2.2360\n",
        "      \\end{equation}\n",
        "  \n",
        "  <li>Jarak Data Customer 1 dengan Centroid 3</li>\n",
        "      \\begin{equation}\n",
        "      d_{1,3} = \\sqrt{(c_{3,1}-x_{1,1})^2 + (c_{3,2}-x_{1,2})^2 + (c_{3,3}-x_{1,3})^2}\n",
        "      \\end{equation}\n",
        "      \\begin{equation}\n",
        "      d_{1,3} = \\sqrt{(31-19)^2 + (15-15)^2 + (65-39)^2} = 45.9020\n",
        "      \\end{equation}\n",
        "   <li>Tentukan Jarak Minimal Data Customer 1 terhadap Centroid</li>\n",
        "   \\begin{equation}\n",
        "    jarak_{min} = min(d_{1,1},\\;d_{1,2},\\;d_{1,3})\n",
        "   \\end{equation} \n",
        "   \\begin{equation}\n",
        "    jarak_{min} = min(10.4880,\\;2.2360,\\;45.9020)\n",
        "   \\end{equation}  \n",
        "   \\begin{equation}\n",
        "    jarak_{min} = 2.2360\n",
        "   \\end{equation} \n",
        "\n",
        "   Diperoleh jarak paling dekat (minimum) terjadi pada Cluster 2 sehingga Customer 1 akan diletakkan pada kelompok Cluster 2\n",
        "   </ol>\n",
        "  Customer 2\n",
        "   <ol type=\"a\">\n",
        "   <li>Jarak Data Customer 2 dengan Centroid 1</li>\n",
        "      \\begin{equation}\n",
        "      d_{2,1} = \\sqrt{(c_{1,1}-x_{2,1})^2 + (c_{1,2}-x_{2,2})^2 + (c_{1,3}-x_{2,3})^2}\n",
        "      \\end{equation}\n",
        "      \\begin{equation}\n",
        "      d_{2,1} = \\sqrt{(24-21)^2 + (17-15)^2 + (48-81)^2} = 33.1963\n",
        "      \\end{equation}\n",
        "\n",
        "   <li>Jarak Data Customer 2 dengan Centroid 2</li>\n",
        "      \\begin{equation}\n",
        "      d_{2,2} = \\sqrt{(c_{2,1}-x_{2,1})^2 + (c_{2,2}-x_{2,2})^2 + (c_{2,3}-x_{2,3})^2}\n",
        "      \\end{equation}\n",
        "      \\begin{equation}\n",
        "      d_{2,2} = \\sqrt{(19-21)^2 + (16-15)^2 + (37-81)^2} = 44.0567\n",
        "      \\end{equation}\n",
        "  \n",
        "  <li>Jarak Data Customer 2 dengan Centroid 3</li>\n",
        "      \\begin{equation}\n",
        "      d_{2,3} = \\sqrt{(c_{3,1}-x_{2,1})^2 + (c_{3,2}-x_{2,2})^2 + (c_{3,3}-x_{2,3})^2}\n",
        "      \\end{equation}\n",
        "      \\begin{equation}\n",
        "      d_{2,3} = \\sqrt{(31-21)^2 + (15-15)^2 + (65-81)^2} = 85.0117\n",
        "      \\end{equation}\n",
        "   <li>Tentukan Jarak Minimal Data Customer 2 terhadap Centroid</li>\n",
        "   \\begin{equation}\n",
        "    jarak_{min} = min(d_{2,1},\\;d_{2,2},\\;d_{2,3})\n",
        "   \\end{equation} \n",
        "   \\begin{equation}\n",
        "    jarak_{min} = min(33.1963,\\;44.0567,\\;85.0117)\n",
        "   \\end{equation}  \n",
        "   \\begin{equation}\n",
        "    jarak_{min} = 33.1963\n",
        "   \\end{equation} \n",
        "\n",
        "   Diperoleh jarak paling dekat (minimum) terjadi pada Cluster 1 sehingga Customer 2 akan diletakkan pada kelompok Cluster 1\n",
        "   </ol>\n",
        "\n",
        "   Dengan cara yang sama maka akan diperoleh perhitungan sebagai berikut\n",
        "\n",
        "   ![image.png](data:image/png;base64,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)\n",
        "\n",
        "   <li><b>Periksa <i>Stop Conditions</i></b></li>\n",
        "   Perhitungan akan terhenti jika iterasi telah mencapai kondisi yang diinginkan (pada case ini berarti iterasi perhitungan akan berhenti saat iterasi = 2). Karena iterasi belum mencapai nilai 2 maka perhitungan akan dilanjutkan\n",
        "\n",
        "   <li><b>Update Centroid</b></li>\n",
        "   Pusat cluster (centroid) baru ditentukan dengan cara menghitung rata-rata nilai 𝑥 pada data yang terpilih, sehingga diperoleh hasil sebagai berikut :     \n",
        "   Centroid Cluster 1 :\n",
        "\n",
        "   \\begin{equation}\n",
        "   c_{1,1} = \\frac{x_{2,1} + x_{4,1} + x_{5,1} + x_{6,1}}{4}\n",
        "   \\end{equation}\n",
        "   \\begin{equation}\n",
        "   c_{1,1} = \\frac{21+23+31+28}{4} = 25.75\n",
        "   \\end{equation}\n",
        "\n",
        "   \\begin{equation}\n",
        "   c_{1,2} = \\frac{x_{2,2} + x_{4,2} + x_{5,2} + x_{6,2}}{4}\n",
        "   \\end{equation}\n",
        "   \\begin{equation}\n",
        "   c_{1,2} = \\frac{15+17+16+18}{4} = 16.5\n",
        "   \\end{equation}\n",
        "\n",
        "   \\begin{equation}\n",
        "   c_{1,3} = \\frac{x_{2,3} + x_{4,3} + x_{5,3} + x_{6,3}}{4}\n",
        "   \\end{equation}\n",
        "   \\begin{equation}\n",
        "   c_{1,2} = \\frac{81+77+40+82}{4} = 70\n",
        "   \\end{equation}\n",
        "\n",
        "   Diperoleh centroid cluster 1 yang baru = (25.75, 16.5, 70)\n",
        "\n",
        "   Centroid Cluster 2 : \n",
        "   \n",
        "   \\begin{equation}\n",
        "   c_{2,1} = \\frac{x_{1,1} + x_{7,1}}{2}\n",
        "   \\end{equation}\n",
        "   \\begin{equation}\n",
        "   c_{2,1} = \\frac{19+27}{2} = 23\n",
        "   \\end{equation}\n",
        "\n",
        "   \\begin{equation}\n",
        "   c_{2,2} = \\frac{x_{1,2} + x_{7,2}}{2}\n",
        "   \\end{equation}\n",
        "   \\begin{equation}\n",
        "   c_{2,2} = \\frac{15+17}{2} = 16\n",
        "   \\end{equation}\n",
        "\n",
        "   \\begin{equation}\n",
        "   c_{2,3} = \\frac{x_{1,3} + x_{7,3}}{2}\n",
        "   \\end{equation}\n",
        "   \\begin{equation}\n",
        "   c_{2,3} = \\frac{39+76}{2} = 57.5\n",
        "   \\end{equation}\n",
        "\n",
        "   Diperoleh centroid cluster 2 yang baru = (23, 16, 57.5)\n",
        "   \n",
        "   Centroid Cluster 3 : \n",
        "   \n",
        "   \\begin{equation}\n",
        "   c_{3,1} = \\frac{x_{3,1}}{1}\n",
        "   \\end{equation}\n",
        "   \\begin{equation}\n",
        "   c_{3,1} = \\frac{20}{1} = 20\n",
        "   \\end{equation}\n",
        "\n",
        "   \\begin{equation}\n",
        "   c_{3,2} = \\frac{x_{3,2}}{1}\n",
        "   \\end{equation}\n",
        "   \\begin{equation}\n",
        "   c_{3,2} = \\frac{16}{1} = 16\n",
        "   \\end{equation}\n",
        "\n",
        "   \\begin{equation}\n",
        "   c_{3,3} = \\frac{x_{3,3}}{1}\n",
        "   \\end{equation}\n",
        "   \\begin{equation}\n",
        "   c_{3,3} = \\frac{6}{1} = 6\n",
        "   \\end{equation}\n",
        "\n",
        "  Diperoleh centroid cluster 3 yang baru = (20, 16, 6)\n",
        "\n",
        "  <li><b>Perhitungan Iterasi 2</b></li>\n",
        "  Dengan menggunakan centroid yang baru, hitung jarak tiap data terhadap centroid. Dengan cara yang sama diperoleh\n",
        "\n",
        "![image.png](data:image/png;base64,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)\n",
        "\n",
        "</ol>\n",
        "\n",
        "Karena iterasi telah tercapai, maka perhitungan berhenti sehingga diperoleh pengelompokan sebagai berikut \n",
        "\n",
        "![image.png](data:image/png;base64,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)\n",
        "\n",
        "\n"
      ],
      "metadata": {
        "id": "UXUfTcYviMNR"
      }
    },
    {
      "cell_type": "markdown",
      "source": [
        "# Soal\n",
        "\n",
        "Buatlah sebuah fungsi dengan nama kmeans_clustering dan parameter data, iterasi dan banyak cluster atau <b>kmeans_clustering</b>(data, iterasi, n_cluster) yang menghasilkan return cluster tiap customer (tipe data keluaran dict).\n",
        "\n",
        "Contoh :      \n",
        "\n",
        "    >>> data = {age : [19, 21, 20, 23, 31, 28, 27], income : [15, 15, 16, 17, 16, 18, 20], spending_score : [39, 81, 6, 77, 40, 82, 5]}\n",
        "    >>> result = kmeans_clustering(data = data, iterasi = 2, n_cluster = 3)\n",
        "    >>> print(result)\n",
        "    ... {cluster1 : [2, 4, 6], cluster2 : [1, 5], cluster3 : [3, 7]}"
      ],
      "metadata": {
        "id": "pVWjh-az66J9"
      }
    },
    {
      "cell_type": "code",
      "execution_count": 152,
      "metadata": {
        "id": "MlNDIRBchRc5"
      },
      "outputs": [],
      "source": [
        "#Gluck!"
      ]
    },
    {
      "cell_type": "code",
      "source": [
        "import pandas as pd"
      ],
      "metadata": {
        "id": "nrFBMzr9RrY7"
      },
      "execution_count": 153,
      "outputs": []
    },
    {
      "cell_type": "code",
      "source": [
        "#menampilkan data"
      ],
      "metadata": {
        "id": "JB7j9qi24E1e"
      },
      "execution_count": 154,
      "outputs": []
    },
    {
      "cell_type": "code",
      "source": [
        "data = pd.read_excel(\"Data untuk k means.xlsx\")\n",
        "data = data.drop('customer',axis=1)\n",
        "data.head(7)"
      ],
      "metadata": {
        "colab": {
          "base_uri": "https://localhost:8080/",
          "height": 269
        },
        "id": "1MMlXT5BRu4y",
        "outputId": "c26bf03e-e8a0-456d-9086-954454f7a54c"
      },
      "execution_count": 155,
      "outputs": [
        {
          "output_type": "execute_result",
          "data": {
            "text/plain": [
              "   Age  Annual Income  Spending Score\n",
              "0   19             15              39\n",
              "1   21             15              81\n",
              "2   20             16               6\n",
              "3   23             17              77\n",
              "4   31             16              40\n",
              "5   28             18              82\n",
              "6   27             20               5"
            ],
            "text/html": [
              "\n",
              "  <div id=\"df-7ed42005-ac1a-4992-bac3-9dff212a1098\">\n",
              "    <div class=\"colab-df-container\">\n",
              "      <div>\n",
              "<style scoped>\n",
              "    .dataframe tbody tr th:only-of-type {\n",
              "        vertical-align: middle;\n",
              "    }\n",
              "\n",
              "    .dataframe tbody tr th {\n",
              "        vertical-align: top;\n",
              "    }\n",
              "\n",
              "    .dataframe thead th {\n",
              "        text-align: right;\n",
              "    }\n",
              "</style>\n",
              "<table border=\"1\" class=\"dataframe\">\n",
              "  <thead>\n",
              "    <tr style=\"text-align: right;\">\n",
              "      <th></th>\n",
              "      <th>Age</th>\n",
              "      <th>Annual Income</th>\n",
              "      <th>Spending Score</th>\n",
              "    </tr>\n",
              "  </thead>\n",
              "  <tbody>\n",
              "    <tr>\n",
              "      <th>0</th>\n",
              "      <td>19</td>\n",
              "      <td>15</td>\n",
              "      <td>39</td>\n",
              "    </tr>\n",
              "    <tr>\n",
              "      <th>1</th>\n",
              "      <td>21</td>\n",
              "      <td>15</td>\n",
              "      <td>81</td>\n",
              "    </tr>\n",
              "    <tr>\n",
              "      <th>2</th>\n",
              "      <td>20</td>\n",
              "      <td>16</td>\n",
              "      <td>6</td>\n",
              "    </tr>\n",
              "    <tr>\n",
              "      <th>3</th>\n",
              "      <td>23</td>\n",
              "      <td>17</td>\n",
              "      <td>77</td>\n",
              "    </tr>\n",
              "    <tr>\n",
              "      <th>4</th>\n",
              "      <td>31</td>\n",
              "      <td>16</td>\n",
              "      <td>40</td>\n",
              "    </tr>\n",
              "    <tr>\n",
              "      <th>5</th>\n",
              "      <td>28</td>\n",
              "      <td>18</td>\n",
              "      <td>82</td>\n",
              "    </tr>\n",
              "    <tr>\n",
              "      <th>6</th>\n",
              "      <td>27</td>\n",
              "      <td>20</td>\n",
              "      <td>5</td>\n",
              "    </tr>\n",
              "  </tbody>\n",
              "</table>\n",
              "</div>\n",
              "      <button class=\"colab-df-convert\" onclick=\"convertToInteractive('df-7ed42005-ac1a-4992-bac3-9dff212a1098')\"\n",
              "              title=\"Convert this dataframe to an interactive table.\"\n",
              "              style=\"display:none;\">\n",
              "        \n",
              "  <svg xmlns=\"http://www.w3.org/2000/svg\" height=\"24px\"viewBox=\"0 0 24 24\"\n",
              "       width=\"24px\">\n",
              "    <path d=\"M0 0h24v24H0V0z\" fill=\"none\"/>\n",
              "    <path d=\"M18.56 5.44l.94 2.06.94-2.06 2.06-.94-2.06-.94-.94-2.06-.94 2.06-2.06.94zm-11 1L8.5 8.5l.94-2.06 2.06-.94-2.06-.94L8.5 2.5l-.94 2.06-2.06.94zm10 10l.94 2.06.94-2.06 2.06-.94-2.06-.94-.94-2.06-.94 2.06-2.06.94z\"/><path d=\"M17.41 7.96l-1.37-1.37c-.4-.4-.92-.59-1.43-.59-.52 0-1.04.2-1.43.59L10.3 9.45l-7.72 7.72c-.78.78-.78 2.05 0 2.83L4 21.41c.39.39.9.59 1.41.59.51 0 1.02-.2 1.41-.59l7.78-7.78 2.81-2.81c.8-.78.8-2.07 0-2.86zM5.41 20L4 18.59l7.72-7.72 1.47 1.35L5.41 20z\"/>\n",
              "  </svg>\n",
              "      </button>\n",
              "      \n",
              "  <style>\n",
              "    .colab-df-container {\n",
              "      display:flex;\n",
              "      flex-wrap:wrap;\n",
              "      gap: 12px;\n",
              "    }\n",
              "\n",
              "    .colab-df-convert {\n",
              "      background-color: #E8F0FE;\n",
              "      border: none;\n",
              "      border-radius: 50%;\n",
              "      cursor: pointer;\n",
              "      display: none;\n",
              "      fill: #1967D2;\n",
              "      height: 32px;\n",
              "      padding: 0 0 0 0;\n",
              "      width: 32px;\n",
              "    }\n",
              "\n",
              "    .colab-df-convert:hover {\n",
              "      background-color: #E2EBFA;\n",
              "      box-shadow: 0px 1px 2px rgba(60, 64, 67, 0.3), 0px 1px 3px 1px rgba(60, 64, 67, 0.15);\n",
              "      fill: #174EA6;\n",
              "    }\n",
              "\n",
              "    [theme=dark] .colab-df-convert {\n",
              "      background-color: #3B4455;\n",
              "      fill: #D2E3FC;\n",
              "    }\n",
              "\n",
              "    [theme=dark] .colab-df-convert:hover {\n",
              "      background-color: #434B5C;\n",
              "      box-shadow: 0px 1px 3px 1px rgba(0, 0, 0, 0.15);\n",
              "      filter: drop-shadow(0px 1px 2px rgba(0, 0, 0, 0.3));\n",
              "      fill: #FFFFFF;\n",
              "    }\n",
              "  </style>\n",
              "\n",
              "      <script>\n",
              "        const buttonEl =\n",
              "          document.querySelector('#df-7ed42005-ac1a-4992-bac3-9dff212a1098 button.colab-df-convert');\n",
              "        buttonEl.style.display =\n",
              "          google.colab.kernel.accessAllowed ? 'block' : 'none';\n",
              "\n",
              "        async function convertToInteractive(key) {\n",
              "          const element = document.querySelector('#df-7ed42005-ac1a-4992-bac3-9dff212a1098');\n",
              "          const dataTable =\n",
              "            await google.colab.kernel.invokeFunction('convertToInteractive',\n",
              "                                                     [key], {});\n",
              "          if (!dataTable) return;\n",
              "\n",
              "          const docLinkHtml = 'Like what you see? Visit the ' +\n",
              "            '<a target=\"_blank\" href=https://colab.research.google.com/notebooks/data_table.ipynb>data table notebook</a>'\n",
              "            + ' to learn more about interactive tables.';\n",
              "          element.innerHTML = '';\n",
              "          dataTable['output_type'] = 'display_data';\n",
              "          await google.colab.output.renderOutput(dataTable, element);\n",
              "          const docLink = document.createElement('div');\n",
              "          docLink.innerHTML = docLinkHtml;\n",
              "          element.appendChild(docLink);\n",
              "        }\n",
              "      </script>\n",
              "    </div>\n",
              "  </div>\n",
              "  "
            ]
          },
          "metadata": {},
          "execution_count": 155
        }
      ]
    },
    {
      "cell_type": "code",
      "source": [
        "#analisis statistika deskriptif"
      ],
      "metadata": {
        "id": "dOAgVliP4OK2"
      },
      "execution_count": 156,
      "outputs": []
    },
    {
      "cell_type": "code",
      "source": [
        "data.describe()"
      ],
      "metadata": {
        "colab": {
          "base_uri": "https://localhost:8080/",
          "height": 300
        },
        "id": "Yriphe2TTolf",
        "outputId": "20ba43b6-cc87-42e3-b7f7-f34ca1eae6f8"
      },
      "execution_count": 157,
      "outputs": [
        {
          "output_type": "execute_result",
          "data": {
            "text/plain": [
              "             Age  Annual Income  Spending Score\n",
              "count   7.000000       7.000000        7.000000\n",
              "mean   24.142857      16.714286       47.142857\n",
              "std     4.561746       1.799471       33.761065\n",
              "min    19.000000      15.000000        5.000000\n",
              "25%    20.500000      15.500000       22.500000\n",
              "50%    23.000000      16.000000       40.000000\n",
              "75%    27.500000      17.500000       79.000000\n",
              "max    31.000000      20.000000       82.000000"
            ],
            "text/html": [
              "\n",
              "  <div id=\"df-2ef195e7-97dd-40e7-b066-845d6824d986\">\n",
              "    <div class=\"colab-df-container\">\n",
              "      <div>\n",
              "<style scoped>\n",
              "    .dataframe tbody tr th:only-of-type {\n",
              "        vertical-align: middle;\n",
              "    }\n",
              "\n",
              "    .dataframe tbody tr th {\n",
              "        vertical-align: top;\n",
              "    }\n",
              "\n",
              "    .dataframe thead th {\n",
              "        text-align: right;\n",
              "    }\n",
              "</style>\n",
              "<table border=\"1\" class=\"dataframe\">\n",
              "  <thead>\n",
              "    <tr style=\"text-align: right;\">\n",
              "      <th></th>\n",
              "      <th>Age</th>\n",
              "      <th>Annual Income</th>\n",
              "      <th>Spending Score</th>\n",
              "    </tr>\n",
              "  </thead>\n",
              "  <tbody>\n",
              "    <tr>\n",
              "      <th>count</th>\n",
              "      <td>7.000000</td>\n",
              "      <td>7.000000</td>\n",
              "      <td>7.000000</td>\n",
              "    </tr>\n",
              "    <tr>\n",
              "      <th>mean</th>\n",
              "      <td>24.142857</td>\n",
              "      <td>16.714286</td>\n",
              "      <td>47.142857</td>\n",
              "    </tr>\n",
              "    <tr>\n",
              "      <th>std</th>\n",
              "      <td>4.561746</td>\n",
              "      <td>1.799471</td>\n",
              "      <td>33.761065</td>\n",
              "    </tr>\n",
              "    <tr>\n",
              "      <th>min</th>\n",
              "      <td>19.000000</td>\n",
              "      <td>15.000000</td>\n",
              "      <td>5.000000</td>\n",
              "    </tr>\n",
              "    <tr>\n",
              "      <th>25%</th>\n",
              "      <td>20.500000</td>\n",
              "      <td>15.500000</td>\n",
              "      <td>22.500000</td>\n",
              "    </tr>\n",
              "    <tr>\n",
              "      <th>50%</th>\n",
              "      <td>23.000000</td>\n",
              "      <td>16.000000</td>\n",
              "      <td>40.000000</td>\n",
              "    </tr>\n",
              "    <tr>\n",
              "      <th>75%</th>\n",
              "      <td>27.500000</td>\n",
              "      <td>17.500000</td>\n",
              "      <td>79.000000</td>\n",
              "    </tr>\n",
              "    <tr>\n",
              "      <th>max</th>\n",
              "      <td>31.000000</td>\n",
              "      <td>20.000000</td>\n",
              "      <td>82.000000</td>\n",
              "    </tr>\n",
              "  </tbody>\n",
              "</table>\n",
              "</div>\n",
              "      <button class=\"colab-df-convert\" onclick=\"convertToInteractive('df-2ef195e7-97dd-40e7-b066-845d6824d986')\"\n",
              "              title=\"Convert this dataframe to an interactive table.\"\n",
              "              style=\"display:none;\">\n",
              "        \n",
              "  <svg xmlns=\"http://www.w3.org/2000/svg\" height=\"24px\"viewBox=\"0 0 24 24\"\n",
              "       width=\"24px\">\n",
              "    <path d=\"M0 0h24v24H0V0z\" fill=\"none\"/>\n",
              "    <path d=\"M18.56 5.44l.94 2.06.94-2.06 2.06-.94-2.06-.94-.94-2.06-.94 2.06-2.06.94zm-11 1L8.5 8.5l.94-2.06 2.06-.94-2.06-.94L8.5 2.5l-.94 2.06-2.06.94zm10 10l.94 2.06.94-2.06 2.06-.94-2.06-.94-.94-2.06-.94 2.06-2.06.94z\"/><path d=\"M17.41 7.96l-1.37-1.37c-.4-.4-.92-.59-1.43-.59-.52 0-1.04.2-1.43.59L10.3 9.45l-7.72 7.72c-.78.78-.78 2.05 0 2.83L4 21.41c.39.39.9.59 1.41.59.51 0 1.02-.2 1.41-.59l7.78-7.78 2.81-2.81c.8-.78.8-2.07 0-2.86zM5.41 20L4 18.59l7.72-7.72 1.47 1.35L5.41 20z\"/>\n",
              "  </svg>\n",
              "      </button>\n",
              "      \n",
              "  <style>\n",
              "    .colab-df-container {\n",
              "      display:flex;\n",
              "      flex-wrap:wrap;\n",
              "      gap: 12px;\n",
              "    }\n",
              "\n",
              "    .colab-df-convert {\n",
              "      background-color: #E8F0FE;\n",
              "      border: none;\n",
              "      border-radius: 50%;\n",
              "      cursor: pointer;\n",
              "      display: none;\n",
              "      fill: #1967D2;\n",
              "      height: 32px;\n",
              "      padding: 0 0 0 0;\n",
              "      width: 32px;\n",
              "    }\n",
              "\n",
              "    .colab-df-convert:hover {\n",
              "      background-color: #E2EBFA;\n",
              "      box-shadow: 0px 1px 2px rgba(60, 64, 67, 0.3), 0px 1px 3px 1px rgba(60, 64, 67, 0.15);\n",
              "      fill: #174EA6;\n",
              "    }\n",
              "\n",
              "    [theme=dark] .colab-df-convert {\n",
              "      background-color: #3B4455;\n",
              "      fill: #D2E3FC;\n",
              "    }\n",
              "\n",
              "    [theme=dark] .colab-df-convert:hover {\n",
              "      background-color: #434B5C;\n",
              "      box-shadow: 0px 1px 3px 1px rgba(0, 0, 0, 0.15);\n",
              "      filter: drop-shadow(0px 1px 2px rgba(0, 0, 0, 0.3));\n",
              "      fill: #FFFFFF;\n",
              "    }\n",
              "  </style>\n",
              "\n",
              "      <script>\n",
              "        const buttonEl =\n",
              "          document.querySelector('#df-2ef195e7-97dd-40e7-b066-845d6824d986 button.colab-df-convert');\n",
              "        buttonEl.style.display =\n",
              "          google.colab.kernel.accessAllowed ? 'block' : 'none';\n",
              "\n",
              "        async function convertToInteractive(key) {\n",
              "          const element = document.querySelector('#df-2ef195e7-97dd-40e7-b066-845d6824d986');\n",
              "          const dataTable =\n",
              "            await google.colab.kernel.invokeFunction('convertToInteractive',\n",
              "                                                     [key], {});\n",
              "          if (!dataTable) return;\n",
              "\n",
              "          const docLinkHtml = 'Like what you see? Visit the ' +\n",
              "            '<a target=\"_blank\" href=https://colab.research.google.com/notebooks/data_table.ipynb>data table notebook</a>'\n",
              "            + ' to learn more about interactive tables.';\n",
              "          element.innerHTML = '';\n",
              "          dataTable['output_type'] = 'display_data';\n",
              "          await google.colab.output.renderOutput(dataTable, element);\n",
              "          const docLink = document.createElement('div');\n",
              "          docLink.innerHTML = docLinkHtml;\n",
              "          element.appendChild(docLink);\n",
              "        }\n",
              "      </script>\n",
              "    </div>\n",
              "  </div>\n",
              "  "
            ]
          },
          "metadata": {},
          "execution_count": 157
        }
      ]
    },
    {
      "cell_type": "code",
      "source": [
        "#inisialisasi centroids secara random"
      ],
      "metadata": {
        "id": "SOZnF8HXXAQa"
      },
      "execution_count": 158,
      "outputs": []
    },
    {
      "cell_type": "code",
      "source": [
        "def random_centroids(data, n_cluster):\n",
        "    centroids = []\n",
        "    for i in range(n_cluster):\n",
        "        centroid = data.apply(lambda x: float(x.sample()))\n",
        "        centroids.append(centroid)\n",
        "    return pd.concat(centroids, axis=1)"
      ],
      "metadata": {
        "id": "Xvg4U4ELUJvz"
      },
      "execution_count": 159,
      "outputs": []
    },
    {
      "cell_type": "code",
      "source": [
        "centroids_awal = random_centroids(data=data, n_cluster=3)"
      ],
      "metadata": {
        "id": "S7PYrmjOUejq"
      },
      "execution_count": 160,
      "outputs": []
    },
    {
      "cell_type": "code",
      "source": [
        "centroids_awal"
      ],
      "metadata": {
        "colab": {
          "base_uri": "https://localhost:8080/",
          "height": 143
        },
        "id": "HRUNF3Y9UpFV",
        "outputId": "85dea669-db86-47c3-c34e-212015ae6175"
      },
      "execution_count": 161,
      "outputs": [
        {
          "output_type": "execute_result",
          "data": {
            "text/plain": [
              "                   0     1     2\n",
              "Age             27.0  20.0  28.0\n",
              "Annual Income   16.0  15.0  16.0\n",
              "Spending Score  39.0  82.0  40.0"
            ],
            "text/html": [
              "\n",
              "  <div id=\"df-e06d1c29-7fb0-40ab-86a4-0bb224e3fe44\">\n",
              "    <div class=\"colab-df-container\">\n",
              "      <div>\n",
              "<style scoped>\n",
              "    .dataframe tbody tr th:only-of-type {\n",
              "        vertical-align: middle;\n",
              "    }\n",
              "\n",
              "    .dataframe tbody tr th {\n",
              "        vertical-align: top;\n",
              "    }\n",
              "\n",
              "    .dataframe thead th {\n",
              "        text-align: right;\n",
              "    }\n",
              "</style>\n",
              "<table border=\"1\" class=\"dataframe\">\n",
              "  <thead>\n",
              "    <tr style=\"text-align: right;\">\n",
              "      <th></th>\n",
              "      <th>0</th>\n",
              "      <th>1</th>\n",
              "      <th>2</th>\n",
              "    </tr>\n",
              "  </thead>\n",
              "  <tbody>\n",
              "    <tr>\n",
              "      <th>Age</th>\n",
              "      <td>27.0</td>\n",
              "      <td>20.0</td>\n",
              "      <td>28.0</td>\n",
              "    </tr>\n",
              "    <tr>\n",
              "      <th>Annual Income</th>\n",
              "      <td>16.0</td>\n",
              "      <td>15.0</td>\n",
              "      <td>16.0</td>\n",
              "    </tr>\n",
              "    <tr>\n",
              "      <th>Spending Score</th>\n",
              "      <td>39.0</td>\n",
              "      <td>82.0</td>\n",
              "      <td>40.0</td>\n",
              "    </tr>\n",
              "  </tbody>\n",
              "</table>\n",
              "</div>\n",
              "      <button class=\"colab-df-convert\" onclick=\"convertToInteractive('df-e06d1c29-7fb0-40ab-86a4-0bb224e3fe44')\"\n",
              "              title=\"Convert this dataframe to an interactive table.\"\n",
              "              style=\"display:none;\">\n",
              "        \n",
              "  <svg xmlns=\"http://www.w3.org/2000/svg\" height=\"24px\"viewBox=\"0 0 24 24\"\n",
              "       width=\"24px\">\n",
              "    <path d=\"M0 0h24v24H0V0z\" fill=\"none\"/>\n",
              "    <path d=\"M18.56 5.44l.94 2.06.94-2.06 2.06-.94-2.06-.94-.94-2.06-.94 2.06-2.06.94zm-11 1L8.5 8.5l.94-2.06 2.06-.94-2.06-.94L8.5 2.5l-.94 2.06-2.06.94zm10 10l.94 2.06.94-2.06 2.06-.94-2.06-.94-.94-2.06-.94 2.06-2.06.94z\"/><path d=\"M17.41 7.96l-1.37-1.37c-.4-.4-.92-.59-1.43-.59-.52 0-1.04.2-1.43.59L10.3 9.45l-7.72 7.72c-.78.78-.78 2.05 0 2.83L4 21.41c.39.39.9.59 1.41.59.51 0 1.02-.2 1.41-.59l7.78-7.78 2.81-2.81c.8-.78.8-2.07 0-2.86zM5.41 20L4 18.59l7.72-7.72 1.47 1.35L5.41 20z\"/>\n",
              "  </svg>\n",
              "      </button>\n",
              "      \n",
              "  <style>\n",
              "    .colab-df-container {\n",
              "      display:flex;\n",
              "      flex-wrap:wrap;\n",
              "      gap: 12px;\n",
              "    }\n",
              "\n",
              "    .colab-df-convert {\n",
              "      background-color: #E8F0FE;\n",
              "      border: none;\n",
              "      border-radius: 50%;\n",
              "      cursor: pointer;\n",
              "      display: none;\n",
              "      fill: #1967D2;\n",
              "      height: 32px;\n",
              "      padding: 0 0 0 0;\n",
              "      width: 32px;\n",
              "    }\n",
              "\n",
              "    .colab-df-convert:hover {\n",
              "      background-color: #E2EBFA;\n",
              "      box-shadow: 0px 1px 2px rgba(60, 64, 67, 0.3), 0px 1px 3px 1px rgba(60, 64, 67, 0.15);\n",
              "      fill: #174EA6;\n",
              "    }\n",
              "\n",
              "    [theme=dark] .colab-df-convert {\n",
              "      background-color: #3B4455;\n",
              "      fill: #D2E3FC;\n",
              "    }\n",
              "\n",
              "    [theme=dark] .colab-df-convert:hover {\n",
              "      background-color: #434B5C;\n",
              "      box-shadow: 0px 1px 3px 1px rgba(0, 0, 0, 0.15);\n",
              "      filter: drop-shadow(0px 1px 2px rgba(0, 0, 0, 0.3));\n",
              "      fill: #FFFFFF;\n",
              "    }\n",
              "  </style>\n",
              "\n",
              "      <script>\n",
              "        const buttonEl =\n",
              "          document.querySelector('#df-e06d1c29-7fb0-40ab-86a4-0bb224e3fe44 button.colab-df-convert');\n",
              "        buttonEl.style.display =\n",
              "          google.colab.kernel.accessAllowed ? 'block' : 'none';\n",
              "\n",
              "        async function convertToInteractive(key) {\n",
              "          const element = document.querySelector('#df-e06d1c29-7fb0-40ab-86a4-0bb224e3fe44');\n",
              "          const dataTable =\n",
              "            await google.colab.kernel.invokeFunction('convertToInteractive',\n",
              "                                                     [key], {});\n",
              "          if (!dataTable) return;\n",
              "\n",
              "          const docLinkHtml = 'Like what you see? Visit the ' +\n",
              "            '<a target=\"_blank\" href=https://colab.research.google.com/notebooks/data_table.ipynb>data table notebook</a>'\n",
              "            + ' to learn more about interactive tables.';\n",
              "          element.innerHTML = '';\n",
              "          dataTable['output_type'] = 'display_data';\n",
              "          await google.colab.output.renderOutput(dataTable, element);\n",
              "          const docLink = document.createElement('div');\n",
              "          docLink.innerHTML = docLinkHtml;\n",
              "          element.appendChild(docLink);\n",
              "        }\n",
              "      </script>\n",
              "    </div>\n",
              "  </div>\n",
              "  "
            ]
          },
          "metadata": {},
          "execution_count": 161
        }
      ]
    },
    {
      "cell_type": "code",
      "source": [
        "import numpy as np"
      ],
      "metadata": {
        "id": "fXaJF-ihWXge"
      },
      "execution_count": 162,
      "outputs": []
    },
    {
      "cell_type": "code",
      "source": [
        "#Hitung jarak setiap data terhadap centroid awal menggunakan jarak euclid"
      ],
      "metadata": {
        "id": "p5HbVcvFXYeg"
      },
      "execution_count": 163,
      "outputs": []
    },
    {
      "cell_type": "code",
      "source": [
        "def get_label1(data, centroids):\n",
        "    distances = centroids.apply(lambda x: np.sqrt(((data - x) ** 2).sum(axis=1)))\n",
        "    return distances.idxmin(axis=1)"
      ],
      "metadata": {
        "id": "5J9JW5ySVrEs"
      },
      "execution_count": 164,
      "outputs": []
    },
    {
      "cell_type": "code",
      "source": [
        "result1 = get_label1(data=data, centroids=centroids_awal)"
      ],
      "metadata": {
        "id": "n8rABJi-WH-x"
      },
      "execution_count": 165,
      "outputs": []
    },
    {
      "cell_type": "code",
      "source": [
        "#hasil clustering tahap pertama"
      ],
      "metadata": {
        "id": "s6sTY-lTX1oE"
      },
      "execution_count": 166,
      "outputs": []
    },
    {
      "cell_type": "code",
      "source": [
        "print(result1)"
      ],
      "metadata": {
        "colab": {
          "base_uri": "https://localhost:8080/"
        },
        "id": "JhN5-Uj9WbDE",
        "outputId": "ba1b2963-8a42-48c6-d608-ac35e3e6e96f"
      },
      "execution_count": 167,
      "outputs": [
        {
          "output_type": "stream",
          "name": "stdout",
          "text": [
            "0    0\n",
            "1    1\n",
            "2    0\n",
            "3    1\n",
            "4    2\n",
            "5    1\n",
            "6    0\n",
            "dtype: int64\n"
          ]
        }
      ]
    },
    {
      "cell_type": "code",
      "source": [
        "result1.value_counts()"
      ],
      "metadata": {
        "colab": {
          "base_uri": "https://localhost:8080/"
        },
        "id": "XV9T4ZV1YIIT",
        "outputId": "468263a5-7224-48e9-9683-49382b1447ae"
      },
      "execution_count": 168,
      "outputs": [
        {
          "output_type": "execute_result",
          "data": {
            "text/plain": [
              "0    3\n",
              "1    3\n",
              "2    1\n",
              "dtype: int64"
            ]
          },
          "metadata": {},
          "execution_count": 168
        }
      ]
    },
    {
      "cell_type": "code",
      "source": [
        "#update centroid dengan cara menghitung rata-rata nilai 𝑥 pada data yang terpilih berdasarkan labelnya"
      ],
      "metadata": {
        "id": "jjMW0RmgYjlb"
      },
      "execution_count": 169,
      "outputs": []
    },
    {
      "cell_type": "code",
      "source": [
        "def new_centroids(data, labels):\n",
        "    centroids = data.groupby(labels).apply(lambda x: np.exp(np.log(x).mean())).T\n",
        "    return centroids"
      ],
      "metadata": {
        "id": "aUhxbIxwa8VJ"
      },
      "execution_count": 170,
      "outputs": []
    },
    {
      "cell_type": "code",
      "source": [
        "centroids_baru = new_centroids(data=data, labels=result1)"
      ],
      "metadata": {
        "id": "2fipyaigb1ZE"
      },
      "execution_count": 171,
      "outputs": []
    },
    {
      "cell_type": "code",
      "source": [
        "centroids_baru"
      ],
      "metadata": {
        "colab": {
          "base_uri": "https://localhost:8080/",
          "height": 143
        },
        "id": "XrePqpCwxANo",
        "outputId": "88858be2-a555-4301-ad68-ed4774609550"
      },
      "execution_count": 172,
      "outputs": [
        {
          "output_type": "execute_result",
          "data": {
            "text/plain": [
              "                        0          1     2\n",
              "Age             21.729469  23.825118  31.0\n",
              "Annual Income   16.868653  16.618975  16.0\n",
              "Spending Score  10.537282  79.970510  40.0"
            ],
            "text/html": [
              "\n",
              "  <div id=\"df-b89948f8-75d4-4043-8bb1-d4e47c02f970\">\n",
              "    <div class=\"colab-df-container\">\n",
              "      <div>\n",
              "<style scoped>\n",
              "    .dataframe tbody tr th:only-of-type {\n",
              "        vertical-align: middle;\n",
              "    }\n",
              "\n",
              "    .dataframe tbody tr th {\n",
              "        vertical-align: top;\n",
              "    }\n",
              "\n",
              "    .dataframe thead th {\n",
              "        text-align: right;\n",
              "    }\n",
              "</style>\n",
              "<table border=\"1\" class=\"dataframe\">\n",
              "  <thead>\n",
              "    <tr style=\"text-align: right;\">\n",
              "      <th></th>\n",
              "      <th>0</th>\n",
              "      <th>1</th>\n",
              "      <th>2</th>\n",
              "    </tr>\n",
              "  </thead>\n",
              "  <tbody>\n",
              "    <tr>\n",
              "      <th>Age</th>\n",
              "      <td>21.729469</td>\n",
              "      <td>23.825118</td>\n",
              "      <td>31.0</td>\n",
              "    </tr>\n",
              "    <tr>\n",
              "      <th>Annual Income</th>\n",
              "      <td>16.868653</td>\n",
              "      <td>16.618975</td>\n",
              "      <td>16.0</td>\n",
              "    </tr>\n",
              "    <tr>\n",
              "      <th>Spending Score</th>\n",
              "      <td>10.537282</td>\n",
              "      <td>79.970510</td>\n",
              "      <td>40.0</td>\n",
              "    </tr>\n",
              "  </tbody>\n",
              "</table>\n",
              "</div>\n",
              "      <button class=\"colab-df-convert\" onclick=\"convertToInteractive('df-b89948f8-75d4-4043-8bb1-d4e47c02f970')\"\n",
              "              title=\"Convert this dataframe to an interactive table.\"\n",
              "              style=\"display:none;\">\n",
              "        \n",
              "  <svg xmlns=\"http://www.w3.org/2000/svg\" height=\"24px\"viewBox=\"0 0 24 24\"\n",
              "       width=\"24px\">\n",
              "    <path d=\"M0 0h24v24H0V0z\" fill=\"none\"/>\n",
              "    <path d=\"M18.56 5.44l.94 2.06.94-2.06 2.06-.94-2.06-.94-.94-2.06-.94 2.06-2.06.94zm-11 1L8.5 8.5l.94-2.06 2.06-.94-2.06-.94L8.5 2.5l-.94 2.06-2.06.94zm10 10l.94 2.06.94-2.06 2.06-.94-2.06-.94-.94-2.06-.94 2.06-2.06.94z\"/><path d=\"M17.41 7.96l-1.37-1.37c-.4-.4-.92-.59-1.43-.59-.52 0-1.04.2-1.43.59L10.3 9.45l-7.72 7.72c-.78.78-.78 2.05 0 2.83L4 21.41c.39.39.9.59 1.41.59.51 0 1.02-.2 1.41-.59l7.78-7.78 2.81-2.81c.8-.78.8-2.07 0-2.86zM5.41 20L4 18.59l7.72-7.72 1.47 1.35L5.41 20z\"/>\n",
              "  </svg>\n",
              "      </button>\n",
              "      \n",
              "  <style>\n",
              "    .colab-df-container {\n",
              "      display:flex;\n",
              "      flex-wrap:wrap;\n",
              "      gap: 12px;\n",
              "    }\n",
              "\n",
              "    .colab-df-convert {\n",
              "      background-color: #E8F0FE;\n",
              "      border: none;\n",
              "      border-radius: 50%;\n",
              "      cursor: pointer;\n",
              "      display: none;\n",
              "      fill: #1967D2;\n",
              "      height: 32px;\n",
              "      padding: 0 0 0 0;\n",
              "      width: 32px;\n",
              "    }\n",
              "\n",
              "    .colab-df-convert:hover {\n",
              "      background-color: #E2EBFA;\n",
              "      box-shadow: 0px 1px 2px rgba(60, 64, 67, 0.3), 0px 1px 3px 1px rgba(60, 64, 67, 0.15);\n",
              "      fill: #174EA6;\n",
              "    }\n",
              "\n",
              "    [theme=dark] .colab-df-convert {\n",
              "      background-color: #3B4455;\n",
              "      fill: #D2E3FC;\n",
              "    }\n",
              "\n",
              "    [theme=dark] .colab-df-convert:hover {\n",
              "      background-color: #434B5C;\n",
              "      box-shadow: 0px 1px 3px 1px rgba(0, 0, 0, 0.15);\n",
              "      filter: drop-shadow(0px 1px 2px rgba(0, 0, 0, 0.3));\n",
              "      fill: #FFFFFF;\n",
              "    }\n",
              "  </style>\n",
              "\n",
              "      <script>\n",
              "        const buttonEl =\n",
              "          document.querySelector('#df-b89948f8-75d4-4043-8bb1-d4e47c02f970 button.colab-df-convert');\n",
              "        buttonEl.style.display =\n",
              "          google.colab.kernel.accessAllowed ? 'block' : 'none';\n",
              "\n",
              "        async function convertToInteractive(key) {\n",
              "          const element = document.querySelector('#df-b89948f8-75d4-4043-8bb1-d4e47c02f970');\n",
              "          const dataTable =\n",
              "            await google.colab.kernel.invokeFunction('convertToInteractive',\n",
              "                                                     [key], {});\n",
              "          if (!dataTable) return;\n",
              "\n",
              "          const docLinkHtml = 'Like what you see? Visit the ' +\n",
              "            '<a target=\"_blank\" href=https://colab.research.google.com/notebooks/data_table.ipynb>data table notebook</a>'\n",
              "            + ' to learn more about interactive tables.';\n",
              "          element.innerHTML = '';\n",
              "          dataTable['output_type'] = 'display_data';\n",
              "          await google.colab.output.renderOutput(dataTable, element);\n",
              "          const docLink = document.createElement('div');\n",
              "          docLink.innerHTML = docLinkHtml;\n",
              "          element.appendChild(docLink);\n",
              "        }\n",
              "      </script>\n",
              "    </div>\n",
              "  </div>\n",
              "  "
            ]
          },
          "metadata": {},
          "execution_count": 172
        }
      ]
    },
    {
      "cell_type": "code",
      "source": [
        "#Hitung jarak setiap data terhadap centroid yang telah diupdate menggunakan jarak euclid"
      ],
      "metadata": {
        "id": "w49CBc6cc7xb"
      },
      "execution_count": 173,
      "outputs": []
    },
    {
      "cell_type": "code",
      "source": [
        "def get_label2(data, centroids):\n",
        "    distances = centroids.apply(lambda x: np.sqrt(((data - x) ** 2).sum(axis=1)))\n",
        "    return distances.idxmin(axis=1)"
      ],
      "metadata": {
        "id": "K0270kuqcqkO"
      },
      "execution_count": 174,
      "outputs": []
    },
    {
      "cell_type": "code",
      "source": [
        "result2 = get_label2(data=data, centroids=centroids_baru)"
      ],
      "metadata": {
        "id": "8ffhUIprpxXr"
      },
      "execution_count": 175,
      "outputs": []
    },
    {
      "cell_type": "code",
      "source": [
        "#Berikut adalah hasil akhir dari clustering K Means dengan banyak cluster=3 dan iterasi=2"
      ],
      "metadata": {
        "id": "5XKkA92bENhL"
      },
      "execution_count": 176,
      "outputs": []
    },
    {
      "cell_type": "code",
      "source": [
        "print(result2)"
      ],
      "metadata": {
        "colab": {
          "base_uri": "https://localhost:8080/"
        },
        "id": "2OI-L3ubp3gB",
        "outputId": "133df0f9-312b-4a20-c7a8-4b58ca861360"
      },
      "execution_count": 177,
      "outputs": [
        {
          "output_type": "stream",
          "name": "stdout",
          "text": [
            "0    2\n",
            "1    1\n",
            "2    0\n",
            "3    1\n",
            "4    2\n",
            "5    1\n",
            "6    0\n",
            "dtype: int64\n"
          ]
        }
      ]
    },
    {
      "cell_type": "code",
      "source": [
        "result2.value_counts()"
      ],
      "metadata": {
        "colab": {
          "base_uri": "https://localhost:8080/"
        },
        "id": "YbLkY7jiqGs4",
        "outputId": "8e3edcb2-d38c-4299-8eb4-cd7b6e132375"
      },
      "execution_count": 178,
      "outputs": [
        {
          "output_type": "execute_result",
          "data": {
            "text/plain": [
              "1    3\n",
              "2    2\n",
              "0    2\n",
              "dtype: int64"
            ]
          },
          "metadata": {},
          "execution_count": 178
        }
      ]
    },
    {
      "cell_type": "code",
      "source": [
        "# Menambahkan kolom cluster pada tabel data\n",
        "data['cluster'] = result2"
      ],
      "metadata": {
        "id": "OW7B_mKFnYXq"
      },
      "execution_count": 179,
      "outputs": []
    },
    {
      "cell_type": "code",
      "source": [
        "data.head(7)"
      ],
      "metadata": {
        "colab": {
          "base_uri": "https://localhost:8080/",
          "height": 269
        },
        "id": "ne0WI_yknb9b",
        "outputId": "3afdb116-6f77-4a68-adf9-1fd4f8d2586e"
      },
      "execution_count": 180,
      "outputs": [
        {
          "output_type": "execute_result",
          "data": {
            "text/plain": [
              "   Age  Annual Income  Spending Score  cluster\n",
              "0   19             15              39        2\n",
              "1   21             15              81        1\n",
              "2   20             16               6        0\n",
              "3   23             17              77        1\n",
              "4   31             16              40        2\n",
              "5   28             18              82        1\n",
              "6   27             20               5        0"
            ],
            "text/html": [
              "\n",
              "  <div id=\"df-1c6c8cdc-6dc9-49e3-91e0-a6ce6d28c561\">\n",
              "    <div class=\"colab-df-container\">\n",
              "      <div>\n",
              "<style scoped>\n",
              "    .dataframe tbody tr th:only-of-type {\n",
              "        vertical-align: middle;\n",
              "    }\n",
              "\n",
              "    .dataframe tbody tr th {\n",
              "        vertical-align: top;\n",
              "    }\n",
              "\n",
              "    .dataframe thead th {\n",
              "        text-align: right;\n",
              "    }\n",
              "</style>\n",
              "<table border=\"1\" class=\"dataframe\">\n",
              "  <thead>\n",
              "    <tr style=\"text-align: right;\">\n",
              "      <th></th>\n",
              "      <th>Age</th>\n",
              "      <th>Annual Income</th>\n",
              "      <th>Spending Score</th>\n",
              "      <th>cluster</th>\n",
              "    </tr>\n",
              "  </thead>\n",
              "  <tbody>\n",
              "    <tr>\n",
              "      <th>0</th>\n",
              "      <td>19</td>\n",
              "      <td>15</td>\n",
              "      <td>39</td>\n",
              "      <td>2</td>\n",
              "    </tr>\n",
              "    <tr>\n",
              "      <th>1</th>\n",
              "      <td>21</td>\n",
              "      <td>15</td>\n",
              "      <td>81</td>\n",
              "      <td>1</td>\n",
              "    </tr>\n",
              "    <tr>\n",
              "      <th>2</th>\n",
              "      <td>20</td>\n",
              "      <td>16</td>\n",
              "      <td>6</td>\n",
              "      <td>0</td>\n",
              "    </tr>\n",
              "    <tr>\n",
              "      <th>3</th>\n",
              "      <td>23</td>\n",
              "      <td>17</td>\n",
              "      <td>77</td>\n",
              "      <td>1</td>\n",
              "    </tr>\n",
              "    <tr>\n",
              "      <th>4</th>\n",
              "      <td>31</td>\n",
              "      <td>16</td>\n",
              "      <td>40</td>\n",
              "      <td>2</td>\n",
              "    </tr>\n",
              "    <tr>\n",
              "      <th>5</th>\n",
              "      <td>28</td>\n",
              "      <td>18</td>\n",
              "      <td>82</td>\n",
              "      <td>1</td>\n",
              "    </tr>\n",
              "    <tr>\n",
              "      <th>6</th>\n",
              "      <td>27</td>\n",
              "      <td>20</td>\n",
              "      <td>5</td>\n",
              "      <td>0</td>\n",
              "    </tr>\n",
              "  </tbody>\n",
              "</table>\n",
              "</div>\n",
              "      <button class=\"colab-df-convert\" onclick=\"convertToInteractive('df-1c6c8cdc-6dc9-49e3-91e0-a6ce6d28c561')\"\n",
              "              title=\"Convert this dataframe to an interactive table.\"\n",
              "              style=\"display:none;\">\n",
              "        \n",
              "  <svg xmlns=\"http://www.w3.org/2000/svg\" height=\"24px\"viewBox=\"0 0 24 24\"\n",
              "       width=\"24px\">\n",
              "    <path d=\"M0 0h24v24H0V0z\" fill=\"none\"/>\n",
              "    <path d=\"M18.56 5.44l.94 2.06.94-2.06 2.06-.94-2.06-.94-.94-2.06-.94 2.06-2.06.94zm-11 1L8.5 8.5l.94-2.06 2.06-.94-2.06-.94L8.5 2.5l-.94 2.06-2.06.94zm10 10l.94 2.06.94-2.06 2.06-.94-2.06-.94-.94-2.06-.94 2.06-2.06.94z\"/><path d=\"M17.41 7.96l-1.37-1.37c-.4-.4-.92-.59-1.43-.59-.52 0-1.04.2-1.43.59L10.3 9.45l-7.72 7.72c-.78.78-.78 2.05 0 2.83L4 21.41c.39.39.9.59 1.41.59.51 0 1.02-.2 1.41-.59l7.78-7.78 2.81-2.81c.8-.78.8-2.07 0-2.86zM5.41 20L4 18.59l7.72-7.72 1.47 1.35L5.41 20z\"/>\n",
              "  </svg>\n",
              "      </button>\n",
              "      \n",
              "  <style>\n",
              "    .colab-df-container {\n",
              "      display:flex;\n",
              "      flex-wrap:wrap;\n",
              "      gap: 12px;\n",
              "    }\n",
              "\n",
              "    .colab-df-convert {\n",
              "      background-color: #E8F0FE;\n",
              "      border: none;\n",
              "      border-radius: 50%;\n",
              "      cursor: pointer;\n",
              "      display: none;\n",
              "      fill: #1967D2;\n",
              "      height: 32px;\n",
              "      padding: 0 0 0 0;\n",
              "      width: 32px;\n",
              "    }\n",
              "\n",
              "    .colab-df-convert:hover {\n",
              "      background-color: #E2EBFA;\n",
              "      box-shadow: 0px 1px 2px rgba(60, 64, 67, 0.3), 0px 1px 3px 1px rgba(60, 64, 67, 0.15);\n",
              "      fill: #174EA6;\n",
              "    }\n",
              "\n",
              "    [theme=dark] .colab-df-convert {\n",
              "      background-color: #3B4455;\n",
              "      fill: #D2E3FC;\n",
              "    }\n",
              "\n",
              "    [theme=dark] .colab-df-convert:hover {\n",
              "      background-color: #434B5C;\n",
              "      box-shadow: 0px 1px 3px 1px rgba(0, 0, 0, 0.15);\n",
              "      filter: drop-shadow(0px 1px 2px rgba(0, 0, 0, 0.3));\n",
              "      fill: #FFFFFF;\n",
              "    }\n",
              "  </style>\n",
              "\n",
              "      <script>\n",
              "        const buttonEl =\n",
              "          document.querySelector('#df-1c6c8cdc-6dc9-49e3-91e0-a6ce6d28c561 button.colab-df-convert');\n",
              "        buttonEl.style.display =\n",
              "          google.colab.kernel.accessAllowed ? 'block' : 'none';\n",
              "\n",
              "        async function convertToInteractive(key) {\n",
              "          const element = document.querySelector('#df-1c6c8cdc-6dc9-49e3-91e0-a6ce6d28c561');\n",
              "          const dataTable =\n",
              "            await google.colab.kernel.invokeFunction('convertToInteractive',\n",
              "                                                     [key], {});\n",
              "          if (!dataTable) return;\n",
              "\n",
              "          const docLinkHtml = 'Like what you see? Visit the ' +\n",
              "            '<a target=\"_blank\" href=https://colab.research.google.com/notebooks/data_table.ipynb>data table notebook</a>'\n",
              "            + ' to learn more about interactive tables.';\n",
              "          element.innerHTML = '';\n",
              "          dataTable['output_type'] = 'display_data';\n",
              "          await google.colab.output.renderOutput(dataTable, element);\n",
              "          const docLink = document.createElement('div');\n",
              "          docLink.innerHTML = docLinkHtml;\n",
              "          element.appendChild(docLink);\n",
              "        }\n",
              "      </script>\n",
              "    </div>\n",
              "  </div>\n",
              "  "
            ]
          },
          "metadata": {},
          "execution_count": 180
        }
      ]
    }
  ]
}